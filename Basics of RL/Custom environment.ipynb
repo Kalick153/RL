{
 "cells": [
  {
   "metadata": {
    "ExecuteTime": {
     "end_time": "2024-05-20T17:07:26.922412Z",
     "start_time": "2024-05-20T17:07:22.525047Z"
    }
   },
   "cell_type": "code",
   "source": [
    "import gymnasium\n",
    "from gymnasium import Env # Env class to build custom env\n",
    "from gymnasium.spaces import Discrete, Box, Dict, Tuple, MultiBinary, MultiDiscrete # different type of spaces\n",
    "\n",
    "import numpy as np\n",
    "import random\n",
    "import os\n",
    "\n",
    "from stable_baselines3 import PPO\n",
    "from stable_baselines3.common.vec_env import VecFrameStack\n",
    "from stable_baselines3.common.evaluation import evaluate_policy"
   ],
   "id": "4dfbf86601837b1c",
   "outputs": [],
   "execution_count": 1
  },
  {
   "metadata": {},
   "cell_type": "markdown",
   "source": "Let's look at types of spaces",
   "id": "78bd688a54d0df5c"
  },
  {
   "metadata": {
    "ExecuteTime": {
     "end_time": "2024-05-20T17:09:55.006729Z",
     "start_time": "2024-05-20T17:09:54.989718Z"
    }
   },
   "cell_type": "code",
   "source": "Discrete(3).sample() # just discrete  space, in our case 0,1,2",
   "id": "66240807c552383f",
   "outputs": [
    {
     "data": {
      "text/plain": [
       "2"
      ]
     },
     "execution_count": 4,
     "metadata": {},
     "output_type": "execute_result"
    }
   ],
   "execution_count": 4
  },
  {
   "metadata": {
    "ExecuteTime": {
     "end_time": "2024-05-20T17:10:26.961213Z",
     "start_time": "2024-05-20T17:10:26.939214Z"
    }
   },
   "cell_type": "code",
   "source": "Box(0, 1, shape=(3,3)) # box space, lowest highest and shape",
   "id": "a12ed6f0e2d5cf97",
   "outputs": [
    {
     "data": {
      "text/plain": [
       "Box(0.0, 1.0, (3, 3), float32)"
      ]
     },
     "execution_count": 5,
     "metadata": {},
     "output_type": "execute_result"
    }
   ],
   "execution_count": 5
  },
  {
   "metadata": {
    "ExecuteTime": {
     "end_time": "2024-05-20T17:10:43.898568Z",
     "start_time": "2024-05-20T17:10:43.876548Z"
    }
   },
   "cell_type": "code",
   "source": "Box(0, 1, shape=(3,3)).sample()",
   "id": "9614f71dd7975c71",
   "outputs": [
    {
     "data": {
      "text/plain": [
       "array([[0.80953276, 0.18092021, 0.8583819 ],\n",
       "       [0.49820903, 0.67182857, 0.61986655],\n",
       "       [0.75848645, 0.4256289 , 0.15841283]], dtype=float32)"
      ]
     },
     "execution_count": 6,
     "metadata": {},
     "output_type": "execute_result"
    }
   ],
   "execution_count": 6
  },
  {
   "metadata": {
    "ExecuteTime": {
     "end_time": "2024-05-20T17:11:47.597279Z",
     "start_time": "2024-05-20T17:11:47.578186Z"
    }
   },
   "cell_type": "code",
   "source": "Tuple((Discrete(3), Box(0, 1, shape=(3,3))))  # allows to combine different spaces",
   "id": "e15c40366699c159",
   "outputs": [
    {
     "data": {
      "text/plain": [
       "Tuple(Discrete(3), Box(0.0, 1.0, (3, 3), float32))"
      ]
     },
     "execution_count": 7,
     "metadata": {},
     "output_type": "execute_result"
    }
   ],
   "execution_count": 7
  },
  {
   "metadata": {
    "ExecuteTime": {
     "end_time": "2024-05-20T17:12:01.957312Z",
     "start_time": "2024-05-20T17:12:01.944352Z"
    }
   },
   "cell_type": "code",
   "source": "Tuple((Discrete(3), Box(0, 1, shape=(3,3)))).sample()",
   "id": "c96596855fb39c85",
   "outputs": [
    {
     "data": {
      "text/plain": [
       "(0,\n",
       " array([[0.49876577, 0.97141844, 0.15645531],\n",
       "        [0.2760475 , 0.28082424, 0.9451644 ],\n",
       "        [0.06442003, 0.97389865, 0.31251356]], dtype=float32))"
      ]
     },
     "execution_count": 9,
     "metadata": {},
     "output_type": "execute_result"
    }
   ],
   "execution_count": 9
  },
  {
   "metadata": {
    "ExecuteTime": {
     "end_time": "2024-05-20T17:14:12.871219Z",
     "start_time": "2024-05-20T17:14:12.861223Z"
    }
   },
   "cell_type": "code",
   "source": "Dict({'height': Discrete(3), 'speed': Box(0,100, shape=(1,))}) # like in tuple, but in dict",
   "id": "e8f18327b46accdf",
   "outputs": [
    {
     "data": {
      "text/plain": [
       "Dict('height': Discrete(3), 'speed': Box(0.0, 100.0, (1,), float32))"
      ]
     },
     "execution_count": 10,
     "metadata": {},
     "output_type": "execute_result"
    }
   ],
   "execution_count": 10
  },
  {
   "metadata": {
    "ExecuteTime": {
     "end_time": "2024-05-20T17:14:19.126046Z",
     "start_time": "2024-05-20T17:14:19.104042Z"
    }
   },
   "cell_type": "code",
   "source": "Dict({'height': Discrete(3), 'speed': Box(0,100, shape=(1,))}).sample()",
   "id": "fb0c893baf70e92b",
   "outputs": [
    {
     "data": {
      "text/plain": [
       "OrderedDict([('height', 2), ('speed', array([84.66269], dtype=float32))])"
      ]
     },
     "execution_count": 11,
     "metadata": {},
     "output_type": "execute_result"
    }
   ],
   "execution_count": 11
  },
  {
   "metadata": {
    "ExecuteTime": {
     "end_time": "2024-05-20T17:15:38.730007Z",
     "start_time": "2024-05-20T17:15:38.720009Z"
    }
   },
   "cell_type": "code",
   "source": "MultiBinary(4).sample() # n positions, either 0 or 1",
   "id": "ed164e69ad68a5eb",
   "outputs": [
    {
     "data": {
      "text/plain": [
       "array([1, 1, 0, 1], dtype=int8)"
      ]
     },
     "execution_count": 14,
     "metadata": {},
     "output_type": "execute_result"
    }
   ],
   "execution_count": 14
  },
  {
   "metadata": {
    "ExecuteTime": {
     "end_time": "2024-05-20T17:16:51.403626Z",
     "start_time": "2024-05-20T17:16:51.395637Z"
    }
   },
   "cell_type": "code",
   "source": "MultiDiscrete([5, 2, 2]).sample() # as MultiBinary but with discrete values",
   "id": "13839303ec7041f8",
   "outputs": [
    {
     "data": {
      "text/plain": [
       "array([4, 1, 1], dtype=int64)"
      ]
     },
     "execution_count": 16,
     "metadata": {},
     "output_type": "execute_result"
    }
   ],
   "execution_count": 16
  },
  {
   "metadata": {},
   "cell_type": "markdown",
   "source": "Let's build a custom Env, where the agent need to regulate the shower temperature to get to a comfortable range between 37-39 degrees",
   "id": "f57f0d7c33ba49a4"
  },
  {
   "metadata": {
    "ExecuteTime": {
     "end_time": "2024-05-20T17:51:12.068653Z",
     "start_time": "2024-05-20T17:51:12.056613Z"
    }
   },
   "cell_type": "code",
   "source": [
    "class ShowerEnv(Env):\n",
    "    \n",
    "    def __init__(self):\n",
    "        # Actions, increase (2), decrease (0) and not change (1)\n",
    "        self.action_space = Discrete(3)\n",
    "        # Temperatures\n",
    "        self.observation_space = Box(low=0, high=100, shape=(1,))\n",
    "        # Starting state (initial temperature)\n",
    "        self.state = np.array([38 + random.randint(-3, 3)]).astype(np.float32)\n",
    "        # How long to shower\n",
    "        self.shower_length = 60\n",
    "        \n",
    "    def reset(self, seed=None):\n",
    "        # reset \n",
    "        self.state = np.array([38 + random.randint(-3, 3)]).astype(np.float32)\n",
    "        self.shower_length = 60\n",
    "        \n",
    "        return self.state, _\n",
    "    def step(self, action):\n",
    "        # Adjust temperature (-1, 0, +1 degrees)\n",
    "        self.state += action-1\n",
    "        # Shower timer\n",
    "        self.shower_length -= 1\n",
    "        \n",
    "        # Reward\n",
    "        if 37 <= self.state <= 39:\n",
    "            reward = 1\n",
    "        else:\n",
    "            reward = -1\n",
    "        \n",
    "        # Stop if shower ended\n",
    "        if self.shower_length <= 0:\n",
    "            done = True\n",
    "        else:\n",
    "            done = False\n",
    "        \n",
    "        # Info\n",
    "        info = {}\n",
    "        truncated = False\n",
    "    \n",
    "        return self.state, reward, done, truncated, info\n",
    "    \n",
    "    def render(self, mode='human'):\n",
    "        # here we can implement visuals using pygame for example\n",
    "        pass"
   ],
   "id": "2a4f94c893b9682b",
   "outputs": [],
   "execution_count": 52
  },
  {
   "metadata": {
    "ExecuteTime": {
     "end_time": "2024-05-20T17:51:13.402956Z",
     "start_time": "2024-05-20T17:51:13.381957Z"
    }
   },
   "cell_type": "code",
   "source": "env = ShowerEnv()",
   "id": "76e295dcf23a8ad",
   "outputs": [],
   "execution_count": 53
  },
  {
   "metadata": {},
   "cell_type": "markdown",
   "source": "Let's see what we got",
   "id": "3043feb42a30da6"
  },
  {
   "metadata": {
    "ExecuteTime": {
     "end_time": "2024-05-20T17:42:43.629980Z",
     "start_time": "2024-05-20T17:42:43.615981Z"
    }
   },
   "cell_type": "code",
   "source": "env.action_space.sample()",
   "id": "bac7a99e12a52543",
   "outputs": [
    {
     "data": {
      "text/plain": [
       "1"
      ]
     },
     "execution_count": 33,
     "metadata": {},
     "output_type": "execute_result"
    }
   ],
   "execution_count": 33
  },
  {
   "metadata": {
    "ExecuteTime": {
     "end_time": "2024-05-20T17:42:45.413487Z",
     "start_time": "2024-05-20T17:42:45.396973Z"
    }
   },
   "cell_type": "code",
   "source": "env.observation_space.sample()",
   "id": "46f81af016fa37f6",
   "outputs": [
    {
     "data": {
      "text/plain": [
       "array([63.00088], dtype=float32)"
      ]
     },
     "execution_count": 34,
     "metadata": {},
     "output_type": "execute_result"
    }
   ],
   "execution_count": 34
  },
  {
   "metadata": {
    "ExecuteTime": {
     "end_time": "2024-05-20T17:42:48.736768Z",
     "start_time": "2024-05-20T17:42:48.718728Z"
    }
   },
   "cell_type": "code",
   "source": "env.reset()",
   "id": "27754be5f9b439cd",
   "outputs": [
    {
     "data": {
      "text/plain": [
       "array([39.], dtype=float32)"
      ]
     },
     "execution_count": 35,
     "metadata": {},
     "output_type": "execute_result"
    }
   ],
   "execution_count": 35
  },
  {
   "metadata": {
    "ExecuteTime": {
     "end_time": "2024-05-20T17:51:22.852981Z",
     "start_time": "2024-05-20T17:51:22.834982Z"
    }
   },
   "cell_type": "code",
   "source": [
    "episodes = 5\n",
    "for episode in range(1, episodes+1):\n",
    "    state = env.reset()\n",
    "    done = False\n",
    "    score = 0 \n",
    "    \n",
    "    while not done:\n",
    "        env.render()\n",
    "        action = env.action_space.sample()\n",
    "        state, reward, done, truncated, info = env.step(action)\n",
    "        score+=reward\n",
    "    print('Episode:{} Score:{}'.format(episode, score))\n",
    "env.close()"
   ],
   "id": "3f60e16c0f7266d5",
   "outputs": [
    {
     "name": "stdout",
     "output_type": "stream",
     "text": [
      "Episode:1 Score:-8\n",
      "Episode:2 Score:-60\n",
      "Episode:3 Score:-36\n",
      "Episode:4 Score:-32\n",
      "Episode:5 Score:-46\n"
     ]
    }
   ],
   "execution_count": 55
  },
  {
   "metadata": {},
   "cell_type": "markdown",
   "source": "Training!",
   "id": "f358755c53e475cb"
  },
  {
   "metadata": {
    "ExecuteTime": {
     "end_time": "2024-05-20T17:51:27.480578Z",
     "start_time": "2024-05-20T17:51:27.457055Z"
    }
   },
   "cell_type": "code",
   "source": "model = PPO('MlpPolicy', env, verbose=1)",
   "id": "d88e38aec49fecdd",
   "outputs": [
    {
     "name": "stdout",
     "output_type": "stream",
     "text": [
      "Using cpu device\n",
      "Wrapping the env with a `Monitor` wrapper\n",
      "Wrapping the env in a DummyVecEnv.\n"
     ]
    }
   ],
   "execution_count": 56
  },
  {
   "metadata": {},
   "cell_type": "code",
   "source": [
    "# I ran this cell twice\n",
    "model.learn(total_timesteps=40000)"
   ],
   "id": "df201473b0534dc5",
   "outputs": [],
   "execution_count": null
  },
  {
   "metadata": {
    "ExecuteTime": {
     "end_time": "2024-05-20T17:56:19.582962Z",
     "start_time": "2024-05-20T17:56:16.352484Z"
    }
   },
   "cell_type": "code",
   "source": "evaluate_policy(model, env, n_eval_episodes=100)",
   "id": "34f39bfb33a6319b",
   "outputs": [
    {
     "data": {
      "text/plain": [
       "(59.3, 0.9539392014169458)"
      ]
     },
     "execution_count": 61,
     "metadata": {},
     "output_type": "execute_result"
    }
   ],
   "execution_count": 61
  },
  {
   "metadata": {},
   "cell_type": "markdown",
   "source": "Yeeeeeey!",
   "id": "722bd909ec441f6f"
  },
  {
   "metadata": {},
   "cell_type": "code",
   "outputs": [],
   "execution_count": null,
   "source": "",
   "id": "57368260603b3c23"
  }
 ],
 "metadata": {
  "kernelspec": {
   "display_name": "Python 3",
   "language": "python",
   "name": "python3"
  },
  "language_info": {
   "codemirror_mode": {
    "name": "ipython",
    "version": 2
   },
   "file_extension": ".py",
   "mimetype": "text/x-python",
   "name": "python",
   "nbconvert_exporter": "python",
   "pygments_lexer": "ipython2",
   "version": "2.7.6"
  }
 },
 "nbformat": 4,
 "nbformat_minor": 5
}
